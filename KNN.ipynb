{
 "cells": [
  {
   "cell_type": "code",
   "execution_count": 35,
   "id": "a1876dab",
   "metadata": {},
   "outputs": [],
   "source": [
    "import numpy as np\n",
    "import pandas as pd\n",
    "import math"
   ]
  },
  {
   "cell_type": "code",
   "execution_count": 47,
   "id": "5cb5fdc1",
   "metadata": {},
   "outputs": [],
   "source": [
    "x1=[7,7,3,1,3,0,5]\n",
    "x2=[7,4,4,4,6,7,6]\n",
    "Y=[0,0,1,1,0,1,1]\n",
    "K=5\n",
    "x=3\n",
    "y=7\n",
    "d=[0,0,0,0,0,0,0]\n",
    "KNN=[]"
   ]
  },
  {
   "cell_type": "code",
   "execution_count": 48,
   "id": "e70bd43a",
   "metadata": {},
   "outputs": [
    {
     "name": "stdout",
     "output_type": "stream",
     "text": [
      "   x1  x2  y         d\n",
      "4   3   6  0  1.000000\n",
      "6   5   6  1  2.236068\n",
      "2   3   4  1  3.000000\n",
      "5   0   7  1  3.000000\n",
      "3   1   4  1  3.605551\n",
      "The Majority is: 1\n"
     ]
    }
   ],
   "source": [
    "for i in range(len(x1)):\n",
    "    d[i]=math.sqrt((x1[i]-x)**2+((x2[i]-y)**2))\n",
    "dict={'x1':x1, 'x2': x2, 'y':Y, 'd':d}\n",
    "df=pd.DataFrame(dict)\n",
    "df=df.sort_values(by=['d'])\n",
    "d1=df.head(K) \n",
    "print(d1)\n",
    "y1=d1['y'].value_counts()\n",
    "if(y1[0]>y1[1]):\n",
    "    print(\"The Majority is:\",0)\n",
    "else:\n",
    "     print(\"The Majority is:\",1)   "
   ]
  },
  {
   "cell_type": "code",
   "execution_count": null,
   "id": "4cda102d",
   "metadata": {},
   "outputs": [],
   "source": []
  },
  {
   "cell_type": "code",
   "execution_count": null,
   "id": "8c3f81e6",
   "metadata": {},
   "outputs": [],
   "source": []
  },
  {
   "cell_type": "code",
   "execution_count": null,
   "id": "0d1b5297",
   "metadata": {},
   "outputs": [],
   "source": []
  },
  {
   "cell_type": "code",
   "execution_count": null,
   "id": "2b0daf4f",
   "metadata": {},
   "outputs": [],
   "source": []
  },
  {
   "cell_type": "code",
   "execution_count": null,
   "id": "508b7497",
   "metadata": {},
   "outputs": [],
   "source": []
  },
  {
   "cell_type": "code",
   "execution_count": null,
   "id": "7a9ab928",
   "metadata": {},
   "outputs": [],
   "source": []
  }
 ],
 "metadata": {
  "kernelspec": {
   "display_name": "Python 3 (ipykernel)",
   "language": "python",
   "name": "python3"
  },
  "language_info": {
   "codemirror_mode": {
    "name": "ipython",
    "version": 3
   },
   "file_extension": ".py",
   "mimetype": "text/x-python",
   "name": "python",
   "nbconvert_exporter": "python",
   "pygments_lexer": "ipython3",
   "version": "3.11.7"
  }
 },
 "nbformat": 4,
 "nbformat_minor": 5
}
