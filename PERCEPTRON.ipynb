{
 "cells": [
  {
   "cell_type": "code",
   "execution_count": 62,
   "id": "de7a8446",
   "metadata": {},
   "outputs": [],
   "source": [
    "import matplotlib.pyplot as plt\n",
    "import numpy as np\n",
    "def perceptron(x,y,t):\n",
    "    wx=np.random.rand(1)\n",
    "    wy=np.random.rand(1)\n",
    "    print(\"Initial weights:\",wx, wy)\n",
    "    a=0.5\n",
    "    for _ in range(10):\n",
    "        for i in range (len(x)):\n",
    "            o=wx*x[i]+wy*y[i]\n",
    "            if (o<1):\n",
    "                o=0\n",
    "            else:\n",
    "                o=1\n",
    "            if(t[i]!=o):\n",
    "                wx=wx+a*(t[i]-o)*x[i]\n",
    "                wy=wy+a*(t[i]-o)*y[i]\n",
    "    print(\"The correct weights are: (\", wx,\",\",wy,\")\")"
   ]
  },
  {
   "cell_type": "code",
   "execution_count": 63,
   "id": "629e11ab",
   "metadata": {},
   "outputs": [
    {
     "name": "stdout",
     "output_type": "stream",
     "text": [
      "Initial weights: [0.14335329] [0.94466892]\n",
      "The correct weights are: ( [1.14335329] , [1.44466892] )\n"
     ]
    }
   ],
   "source": [
    "#OR PERCEPTRON\n",
    "x=[0,0,1,1]\n",
    "y=[0,1,0,1]\n",
    "t=[0,1,1,1]\n",
    "perceptron(x,y,t)"
   ]
  },
  {
   "cell_type": "code",
   "execution_count": 64,
   "id": "df768b87-b9d1-4369-bdcd-e4671ddac1dc",
   "metadata": {},
   "outputs": [
    {
     "name": "stdout",
     "output_type": "stream",
     "text": [
      "Initial weights: [0.52184832] [0.41466194]\n",
      "The correct weights are: ( [0.52184832] , [0.91466194] )\n"
     ]
    }
   ],
   "source": [
    "#AND PERCEPTRON\n",
    "x=[0,0,1,1]\n",
    "y=[0,1,0,1]\n",
    "t=[0,0,0,1]\n",
    "perceptron(x,y,t)"
   ]
  },
  {
   "cell_type": "code",
   "execution_count": null,
   "id": "7938df55-bde0-4ee2-ab08-176e82f4371d",
   "metadata": {},
   "outputs": [],
   "source": []
  }
 ],
 "metadata": {
  "kernelspec": {
   "display_name": "Python 3 (ipykernel)",
   "language": "python",
   "name": "python3"
  },
  "language_info": {
   "codemirror_mode": {
    "name": "ipython",
    "version": 3
   },
   "file_extension": ".py",
   "mimetype": "text/x-python",
   "name": "python",
   "nbconvert_exporter": "python",
   "pygments_lexer": "ipython3",
   "version": "3.11.7"
  }
 },
 "nbformat": 4,
 "nbformat_minor": 5
}
