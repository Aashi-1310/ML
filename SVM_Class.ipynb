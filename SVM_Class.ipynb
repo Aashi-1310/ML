{
 "cells": [
  {
   "cell_type": "code",
   "execution_count": 9,
   "id": "bd5b524d",
   "metadata": {},
   "outputs": [],
   "source": [
    "import pandas as pd\n",
    "import numpy as np\n",
    "import matplotlib.pyplot as plt\n",
    "from sklearn.metrics import accuracy_score, classification_report, confusion_matrix\n",
    "from sklearn.model_selection import train_test_split\n",
    "from sklearn.preprocessing import StandardScaler\n",
    "from sklearn import svm\n",
    "from sklearn.svm import SVC\n",
    "from sklearn.model_selection import GridSearchCV"
   ]
  },
  {
   "cell_type": "code",
   "execution_count": 10,
   "id": "9c2e40d9",
   "metadata": {},
   "outputs": [
    {
     "name": "stdout",
     "output_type": "stream",
     "text": [
      "   Pregnancies  Glucose  BloodPressure  SkinThickness  Insulin   BMI  \\\n",
      "0            6      148             72             35        0  33.6   \n",
      "1            1       85             66             29        0  26.6   \n",
      "2            8      183             64              0        0  23.3   \n",
      "3            1       89             66             23       94  28.1   \n",
      "4            0      137             40             35      168  43.1   \n",
      "\n",
      "   DiabetesPedigreeFunction  Age  Outcome  \n",
      "0                     0.627   50        1  \n",
      "1                     0.351   31        0  \n",
      "2                     0.672   32        1  \n",
      "3                     0.167   21        0  \n",
      "4                     2.288   33        1  \n",
      "[[-0.84818575 -0.96216793 -0.38716902 ... -0.61281405  0.30318143\n",
      "  -0.80484585]\n",
      " [-0.27145701 -0.29862868 -0.38716902 ... -1.18671638 -0.97827436\n",
      "  -1.06245247]\n",
      " [-1.13655012 -0.23543447  0.56329566 ... -0.13872083  1.16333668\n",
      "  -1.06245247]\n",
      " ...\n",
      " [ 0.01690736 -0.17224026  0.14086691 ... -0.40071972 -0.29366099\n",
      "   1.08426931]\n",
      " [-0.84818575 -1.2465419   0.14086691 ... -0.68767088 -0.56575092\n",
      "  -0.80484585]\n",
      " [-1.13655012 -0.48821133 -0.07034746 ... -1.51109595 -0.70325873\n",
      "  -0.9765836 ]]\n",
      "Accuracy: 0.6623376623376623\n",
      "Confusion Matrix:\n",
      "[[102   0]\n",
      " [ 52   0]]\n"
     ]
    }
   ],
   "source": [
    "df = pd.read_csv(\"diabetes.csv\")\n",
    "print(df.head())\n",
    "X = df.drop('Outcome', axis=1)  # Features\n",
    "y = df['Outcome']\n",
    "\n",
    "# split X and y into training and testing sets\n",
    "X_train, X_test, y_train, y_test = train_test_split(X, y, test_size=0.20)\n",
    "\n",
    "sc = StandardScaler()\n",
    "X_train = sc.fit_transform(X_train)\n",
    "print(X_train)\n",
    "X_test = sc.transform(X_test)\n",
    "\n",
    "model=svm.SVC(kernel='rbf',gamma=10,C=10)\n",
    "#model=svm.SVC(kernel='linear',gamma=0.5,C=10)\n",
    "model.fit(X_train,y_train)\n",
    "y_pred=model.predict(X_test)\n",
    "accuracy = accuracy_score(y_test, y_pred)\n",
    "print(\"Accuracy:\", accuracy)\n",
    "\n",
    "conf_matrix = confusion_matrix(y_test, y_pred)\n",
    "print(\"Confusion Matrix:\")\n",
    "print(conf_matrix)\n"
   ]
  },
  {
   "cell_type": "code",
   "execution_count": 11,
   "id": "78f48f0b",
   "metadata": {},
   "outputs": [
    {
     "name": "stdout",
     "output_type": "stream",
     "text": [
      "Best Parameters: {'C': 1, 'degree': 1, 'gamma': 0.01, 'kernel': 'rbf'}\n",
      "Train Score: 0.7736238837798214\n",
      "Test Score: 0.7922077922077922\n"
     ]
    }
   ],
   "source": [
    "grid = {\n",
    "\n",
    "    'C':[0.01,0.1,1],\n",
    "\n",
    "    'kernel' : [\"linear\",\"poly\",\"rbf\",\"sigmoid\"],\n",
    "\n",
    "    'degree' : [1,3,5,7],\n",
    "\n",
    "    'gamma' : [0.01,2,5]\n",
    "\n",
    "}\n",
    "\n",
    "svm  = SVC()\n",
    "\n",
    "svm_cv = GridSearchCV(svm, grid, cv = 5)\n",
    "\n",
    "svm_cv.fit(X_train,y_train)\n",
    "\n",
    "print(\"Best Parameters:\",svm_cv.best_params_)\n",
    "\n",
    "print(\"Train Score:\",svm_cv.best_score_)\n",
    "\n",
    "print(\"Test Score:\",svm_cv.score(X_test,y_test))"
   ]
  }
 ],
 "metadata": {
  "kernelspec": {
   "display_name": "Python 3 (ipykernel)",
   "language": "python",
   "name": "python3"
  },
  "language_info": {
   "codemirror_mode": {
    "name": "ipython",
    "version": 3
   },
   "file_extension": ".py",
   "mimetype": "text/x-python",
   "name": "python",
   "nbconvert_exporter": "python",
   "pygments_lexer": "ipython3",
   "version": "3.11.7"
  }
 },
 "nbformat": 4,
 "nbformat_minor": 5
}
