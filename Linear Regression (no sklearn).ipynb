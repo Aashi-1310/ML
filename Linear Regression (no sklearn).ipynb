{
 "cells": [
  {
   "cell_type": "code",
   "execution_count": 4,
   "id": "67826bab-e542-42f7-8e0b-d3fa8944a048",
   "metadata": {},
   "outputs": [
    {
     "name": "stdout",
     "output_type": "stream",
     "text": [
      "Intercept (a): 177663.29710420308\n",
      "Slope (b): 136.71049631374933\n"
     ]
    },
    {
     "name": "stdin",
     "output_type": "stream",
     "text": [
      "Enter a value of x to predict y:  333\n"
     ]
    },
    {
     "name": "stdout",
     "output_type": "stream",
     "text": [
      "Predicted y value : 223187.89237668162\n"
     ]
    }
   ],
   "source": [
    "import numpy as np\n",
    "import pandas as pd\n",
    "df = pd.read_csv('house.csv')\n",
    "x=df['area']  # Input feature (independent variable)\n",
    "y=df['price'] # Target variable (dependent variable)\n",
    "# Calculate the necessary sums\n",
    "n = len(x)\n",
    "sum_x = np.sum(x)\n",
    "sum_y = np.sum(y)\n",
    "sum_xy = np.sum(x * y)\n",
    "sum_x_squared = np.sum(x ** 2)\n",
    "\n",
    "# Calculate the coefficients (slope and intercept)\n",
    "b = (n * sum_xy - sum_x * sum_y) / (n * sum_x_squared - sum_x ** 2)\n",
    "a = (sum_y * sum_x_squared - sum_x * sum_xy) / (n * sum_x_squared - sum_x ** 2)\n",
    "\n",
    "# Print the coefficients\n",
    "print(\"Intercept (a):\", a)\n",
    "print(\"Slope (b):\", b)\n",
    "\n",
    "test_x = float(input(\"Enter a value of x to predict y: \"))\n",
    "# Predict the value of y using the equation y = bx + a\n",
    "predicted_y = b * test_x + a\n",
    "print(\"Predicted y value :\", predicted_y)\n"
   ]
  },
  {
   "cell_type": "code",
   "execution_count": 9,
   "id": "0a2f2e2b-5523-4cdd-99b1-f2535eff9173",
   "metadata": {},
   "outputs": [
    {
     "name": "stdout",
     "output_type": "stream",
     "text": [
      "Intercept (a): 185025.00066062843\n",
      "Coefficients (b): [ 137.90102616 -681.83291839 -794.81139748]\n"
     ]
    },
    {
     "name": "stdin",
     "output_type": "stream",
     "text": [
      "Enter a value of area to predict y:  3550\n",
      "Enter a value of No. of rooms to predict y:  3\n",
      "Enter a value of years to predict y:  20\n"
     ]
    },
    {
     "name": "stdout",
     "output_type": "stream",
     "text": [
      "Predicted y value: 656631.9168088632\n"
     ]
    }
   ],
   "source": [
    "import numpy as np\n",
    "import pandas as pd\n",
    "\n",
    "# Read the CSV file\n",
    "df = pd.read_csv('house2.csv')\n",
    "\n",
    "# Input features (independent variables)\n",
    "X = df[['area', 'No. of rooms', 'years']]\n",
    "y = df['price']\n",
    "X['intercept'] = 1\n",
    "\n",
    "coefficients = np.linalg.inv(X.T.dot(X)).dot(X.T).dot(y)\n",
    "\n",
    "# Extract the intercept and coefficients from the result\n",
    "a = coefficients[-1]  # Intercept\n",
    "b = coefficients[:-1]  # Coefficients for input features\n",
    "\n",
    "# Print the coefficients\n",
    "print(\"Intercept (a):\", a)\n",
    "print(\"Coefficients (b):\", b)\n",
    "\n",
    "# Ask user for input values of x to predict y\n",
    "test_X = [float(input(f\"Enter a value of {column} to predict y: \")) for column in X.columns[:-1]]\n",
    "\n",
    "# Predict the value of y using the equation y = b1*x1 + b2*x2 + ... + bn*xn + a\n",
    "predicted_y = np.dot(test_X, b) + a\n",
    "print(\"Predicted y value:\", predicted_y)\n"
   ]
  },
  {
   "cell_type": "code",
   "execution_count": null,
   "id": "fbcfa1ae-ba2e-4f0f-9bb1-c78ad95961c3",
   "metadata": {},
   "outputs": [],
   "source": []
  },
  {
   "cell_type": "code",
   "execution_count": null,
   "id": "cd454204-76f5-4222-bf7c-97ad4054622f",
   "metadata": {},
   "outputs": [],
   "source": []
  }
 ],
 "metadata": {
  "kernelspec": {
   "display_name": "Python 3 (ipykernel)",
   "language": "python",
   "name": "python3"
  },
  "language_info": {
   "codemirror_mode": {
    "name": "ipython",
    "version": 3
   },
   "file_extension": ".py",
   "mimetype": "text/x-python",
   "name": "python",
   "nbconvert_exporter": "python",
   "pygments_lexer": "ipython3",
   "version": "3.11.7"
  }
 },
 "nbformat": 4,
 "nbformat_minor": 5
}
